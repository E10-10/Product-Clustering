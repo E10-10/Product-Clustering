{
 "cells": [
  {
   "cell_type": "markdown",
   "metadata": {},
   "source": [
    "# Base Model\n",
    "\n",
    "In this notebook, we will build a first model based on VGG16, a model pre-trained on ImageNet. We'll pass the visual information representing the images in our data set through the convolutional layers of this network in order to generate flattened feature vectors out of all images. Given these vectors we can then define metrics to measure 'distances' between two pictures. This finally enables us to apply several clustering algorithms on our image set. "
   ]
  },
  {
   "cell_type": "markdown",
   "metadata": {},
   "source": [
    "# Preliminaries"
   ]
  },
  {
   "cell_type": "code",
   "execution_count": 1,
   "metadata": {},
   "outputs": [],
   "source": [
    "# import libraries\n",
    "import pandas as pd\n",
    "import numpy as np\n",
    "import time\n",
    "import os, os.path\n",
    "import random\n",
    "import cv2\n",
    "import tensorflow\n",
    "import keras\n",
    "from keras.applications.vgg16 import decode_predictions\n",
    "import matplotlib.pyplot as plt\n",
    "from sklearn.cluster import KMeans\n",
    "from sklearn.decomposition import PCA\n",
    "from sklearn.cluster import DBSCAN\n",
    "import warnings\n",
    "warnings.filterwarnings(\"ignore\")"
   ]
  },
  {
   "cell_type": "code",
   "execution_count": 2,
   "metadata": {},
   "outputs": [],
   "source": [
    "# load the .csv file\n",
    "def load_trainCsv():\n",
    "    df = pd.read_csv('./input/train.csv')    \n",
    "    return df\n",
    "\n",
    "df_train = load_trainCsv()\n",
    "df_train = df_train.sort_values(by=\"label_group\")"
   ]
  },
  {
   "cell_type": "code",
   "execution_count": 3,
   "metadata": {},
   "outputs": [
    {
     "data": {
      "text/html": [
       "<div>\n",
       "<style scoped>\n",
       "    .dataframe tbody tr th:only-of-type {\n",
       "        vertical-align: middle;\n",
       "    }\n",
       "\n",
       "    .dataframe tbody tr th {\n",
       "        vertical-align: top;\n",
       "    }\n",
       "\n",
       "    .dataframe thead th {\n",
       "        text-align: right;\n",
       "    }\n",
       "</style>\n",
       "<table border=\"1\" class=\"dataframe\">\n",
       "  <thead>\n",
       "    <tr style=\"text-align: right;\">\n",
       "      <th></th>\n",
       "      <th>posting_id</th>\n",
       "      <th>image</th>\n",
       "      <th>image_phash</th>\n",
       "      <th>title</th>\n",
       "      <th>label_group</th>\n",
       "      <th>matches_true</th>\n",
       "    </tr>\n",
       "  </thead>\n",
       "  <tbody>\n",
       "    <tr>\n",
       "      <th>3874</th>\n",
       "      <td>train_1646767365</td>\n",
       "      <td>1d7aadc7503b2b4539cc9a5fe41979dd.jpg</td>\n",
       "      <td>e925873ed09cd08f</td>\n",
       "      <td>Sarung celana wadimor original 100% dewasa dan...</td>\n",
       "      <td>258047</td>\n",
       "      <td>train_1646767365 train_1528423085 train_398181303</td>\n",
       "    </tr>\n",
       "    <tr>\n",
       "      <th>31859</th>\n",
       "      <td>train_1528423085</td>\n",
       "      <td>eec692257e74fcbc6cb63cb76d0f20e7.jpg</td>\n",
       "      <td>ea97861c926a71e3</td>\n",
       "      <td>WARNA RANDOM ACAK Sarung Celana Wadimor MURAH ...</td>\n",
       "      <td>258047</td>\n",
       "      <td>train_1646767365 train_1528423085 train_398181303</td>\n",
       "    </tr>\n",
       "    <tr>\n",
       "      <th>6738</th>\n",
       "      <td>train_398181303</td>\n",
       "      <td>3301b8aaccea93d1098995ffbc537335.jpg</td>\n",
       "      <td>e9b5833e929e909c</td>\n",
       "      <td>SARUNG CELANA WADIMOR DEWASA HITAM POLOS SARCEL</td>\n",
       "      <td>258047</td>\n",
       "      <td>train_1646767365 train_1528423085 train_398181303</td>\n",
       "    </tr>\n",
       "  </tbody>\n",
       "</table>\n",
       "</div>"
      ],
      "text/plain": [
       "             posting_id                                 image  \\\n",
       "3874   train_1646767365  1d7aadc7503b2b4539cc9a5fe41979dd.jpg   \n",
       "31859  train_1528423085  eec692257e74fcbc6cb63cb76d0f20e7.jpg   \n",
       "6738    train_398181303  3301b8aaccea93d1098995ffbc537335.jpg   \n",
       "\n",
       "            image_phash                                              title  \\\n",
       "3874   e925873ed09cd08f  Sarung celana wadimor original 100% dewasa dan...   \n",
       "31859  ea97861c926a71e3  WARNA RANDOM ACAK Sarung Celana Wadimor MURAH ...   \n",
       "6738   e9b5833e929e909c    SARUNG CELANA WADIMOR DEWASA HITAM POLOS SARCEL   \n",
       "\n",
       "       label_group                                       matches_true  \n",
       "3874        258047  train_1646767365 train_1528423085 train_398181303  \n",
       "31859       258047  train_1646767365 train_1528423085 train_398181303  \n",
       "6738        258047  train_1646767365 train_1528423085 train_398181303  "
      ]
     },
     "execution_count": 3,
     "metadata": {},
     "output_type": "execute_result"
    }
   ],
   "source": [
    "# create a new column: matches_true\n",
    "tmp = df_train.groupby(['label_group'])['posting_id'].unique().to_dict()\n",
    "df_train['matches_true'] = df_train['label_group'].map(tmp)\n",
    "df_train['matches_true'] = df_train['matches_true'].apply(lambda x: ' '.join(x))\n",
    "df_train.head(3)"
   ]
  },
  {
   "cell_type": "markdown",
   "metadata": {},
   "source": [
    "## Loading and normalizing images"
   ]
  },
  {
   "cell_type": "code",
   "execution_count": 4,
   "metadata": {},
   "outputs": [],
   "source": [
    "# Load the images and resize them to 224 x 224. This is the size our pre-trained model prefers.\n",
    "\n",
    "def load_images(df_train):\n",
    "    \n",
    "    folder_name = \"./input/shopee-product-matching/train_images\"\n",
    "    images = []\n",
    "    labels = []\n",
    "    posting_id = []\n",
    "    \n",
    "    for p_id in df_train['posting_id']:       \n",
    "        img_name = df_train[df_train['posting_id'] == p_id]['image'].values[0]\n",
    "        img = folder_name + '/' + img_name\n",
    "    \n",
    "        if img[-4:] == \".jpg\":\n",
    "            image = cv2.imread(img)\n",
    "            image = cv2.resize(image, (224,224))\n",
    "            image = cv2.cvtColor(image, cv2.COLOR_BGR2RGB)\n",
    "            # Save this visual information in one list (images), save the respective labels in another list (labels) \n",
    "            # The same for the posting_ids\n",
    "            images.append(image)\n",
    "            label = df_train[df_train[\"posting_id\"] == p_id][\"label_group\"].values[0]\n",
    "            labels.append(label)\n",
    "            posting_id.append(p_id)\n",
    "            \n",
    "    return images,labels, posting_id"
   ]
  },
  {
   "cell_type": "code",
   "execution_count": 5,
   "metadata": {},
   "outputs": [],
   "source": [
    "images,labels,posting_id = load_images(df_train)"
   ]
  },
  {
   "cell_type": "markdown",
   "metadata": {},
   "source": [
    "We now transform the lists containing the visual information respectively the labels into NumPy arrays. Then we normalize the array containing the visual information. This will facilitate preprocessing them with the VGG16 model. "
   ]
  },
  {
   "cell_type": "code",
   "execution_count": 6,
   "metadata": {},
   "outputs": [],
   "source": [
    "def normalise_images(images, labels):\n",
    "\n",
    "    images = np.array(images, dtype=np.float32)\n",
    "    labels = np.array(labels)\n",
    "    # normalize the images array by dividing every component through 255\n",
    "    images /= 255    \n",
    "    return images, labels\n",
    "\n",
    "X_train, y_train = normalise_images(images,labels)"
   ]
  },
  {
   "cell_type": "markdown",
   "metadata": {},
   "source": [
    "## Load VGG16 model and transform images into feature vectors"
   ]
  },
  {
   "cell_type": "markdown",
   "metadata": {},
   "source": [
    "We first load the entire VGG16 model (including the fully connected layers). To get a quick overview on what the classifications from VGG16 look like, let's have a look on the first ten images out of our data set."
   ]
  },
  {
   "cell_type": "code",
   "execution_count": 7,
   "metadata": {},
   "outputs": [],
   "source": [
    "vgg16_model = keras.applications.vgg16.VGG16(include_top=True, weights=\"imagenet\", input_shape=(224,224,3))\n",
    "p = vgg16_model.predict(X_train[0:10])"
   ]
  },
  {
   "cell_type": "code",
   "execution_count": 8,
   "metadata": {},
   "outputs": [
    {
     "name": "stdout",
     "output_type": "stream",
     "text": [
      "posting_id:  train_1646767365   label group:  258047\n",
      "posting_id:  train_1528423085   label group:  258047\n",
      "posting_id:  train_398181303   label group:  258047\n",
      "posting_id:  train_2865605743   label group:  297977\n",
      "posting_id:  train_1382500866   label group:  297977\n",
      "posting_id:  train_2070644662   label group:  645628\n",
      "posting_id:  train_2149563017   label group:  645628\n",
      "posting_id:  train_2419208039   label group:  645628\n",
      "posting_id:  train_318767180   label group:  645628\n",
      "posting_id:  train_789743463   label group:  645628\n"
     ]
    }
   ],
   "source": [
    "# print out the label groups the first ten images belong to\n",
    "for i in range(0,10):\n",
    "    print('posting_id: ', posting_id[i],   '  label group: ', labels[i])"
   ]
  },
  {
   "cell_type": "code",
   "execution_count": 9,
   "metadata": {},
   "outputs": [
    {
     "data": {
      "text/plain": [
       "[[('n03788365', 'mosquito_net', 0.10819273),\n",
       "  ('n15075141', 'toilet_tissue', 0.07427242)],\n",
       " [('n03788365', 'mosquito_net', 0.14711374),\n",
       "  ('n15075141', 'toilet_tissue', 0.06362324)],\n",
       " [('n03788365', 'mosquito_net', 0.13091399),\n",
       "  ('n15075141', 'toilet_tissue', 0.06639648)],\n",
       " [('n03291819', 'envelope', 0.056172915),\n",
       "  ('n03788365', 'mosquito_net', 0.04525588)],\n",
       " [('n03788365', 'mosquito_net', 0.10130049),\n",
       "  ('n04209239', 'shower_curtain', 0.058161855)],\n",
       " [('n03291819', 'envelope', 0.11349606),\n",
       "  ('n07248320', 'book_jacket', 0.040203404)],\n",
       " [('n03788365', 'mosquito_net', 0.104926676),\n",
       "  ('n03291819', 'envelope', 0.07137099)],\n",
       " [('n03788365', 'mosquito_net', 0.1448797),\n",
       "  ('n15075141', 'toilet_tissue', 0.0840735)],\n",
       " [('n03788365', 'mosquito_net', 0.11199081),\n",
       "  ('n15075141', 'toilet_tissue', 0.06449302)],\n",
       " [('n03788365', 'mosquito_net', 0.09336743),\n",
       "  ('n15075141', 'toilet_tissue', 0.06524198)]]"
      ]
     },
     "execution_count": 9,
     "metadata": {},
     "output_type": "execute_result"
    }
   ],
   "source": [
    "# print out the prediction VGG16 makes for these images\n",
    "decode_predictions(p[0:10][:],top = 2)"
   ]
  },
  {
   "cell_type": "markdown",
   "metadata": {},
   "source": [
    "We can see that most of the images have been classified as mosquito net. We also see that the probabilities with which our images belong to the respective clusters are quite low. This is not surprising, as this net was trained on completely different images. "
   ]
  },
  {
   "cell_type": "markdown",
   "metadata": {},
   "source": [
    "### Transforming the images"
   ]
  },
  {
   "cell_type": "markdown",
   "metadata": {},
   "source": [
    "As already explained above, we do not want to use VGG16 in order to make classifications on our data set, but to transform images into feature vectors on which we want to apply clustering methods. So the visual information only needs to go through the convolutional layers of VGG16. So what we need to do is to load this net again without the fully connected layers (set include_tod=False for this purpose) and make a 'prediction' which then will be flattened. This way we obtain the feature vectors we desired."
   ]
  },
  {
   "cell_type": "code",
   "execution_count": 10,
   "metadata": {},
   "outputs": [],
   "source": [
    "# Load the VGG16 model from keras. Set include_top=False, as we want to build our model on the flattened output\n",
    "# of the CNN \n",
    "vgg16_model = keras.applications.vgg16.VGG16(include_top=False, weights=\"imagenet\", input_shape=(224,224,3))"
   ]
  },
  {
   "cell_type": "code",
   "execution_count": 11,
   "metadata": {},
   "outputs": [
    {
     "name": "stdout",
     "output_type": "stream",
     "text": [
      "The feature vectore has 25088 entries\n"
     ]
    }
   ],
   "source": [
    "def covnet_transform(covnet_model, raw_images):\n",
    "    pred = covnet_model.predict(raw_images)\n",
    "    # Flatten the output\n",
    "    flat = pred.reshape(raw_images.shape[0], -1)    \n",
    "    return flat\n",
    "\n",
    "# transforming the images contained in X_train into feature vectors\n",
    "vgg16_output = covnet_transform(vgg16_model, X_train)\n",
    "\n",
    "# display the length of these vectors\n",
    "print(\"The feature vectore has {} entries\".format(vgg16_output.shape[1]))"
   ]
  },
  {
   "cell_type": "markdown",
   "metadata": {},
   "source": [
    "## Dimensionality reduction via PCA\n",
    "\n",
    "Even though the size of the feature vectors we just created is small compared to the information contained in the original matrices representing the picture (224 x 224 x 3), these vectors are still quite large and would make predictions computationally expensive. In order to decrease computation time, we now apply a principle component analysis on our feature vectors."
   ]
  },
  {
   "cell_type": "code",
   "execution_count": 12,
   "metadata": {},
   "outputs": [],
   "source": [
    "def create_fit_PCA(data, n_components=100):\n",
    "    \n",
    "    p = PCA(n_components=n_components, random_state=42)\n",
    "    p.fit(data)    \n",
    "    return p\n",
    "    \n",
    "vgg16_pca = create_fit_PCA(vgg16_output)"
   ]
  },
  {
   "cell_type": "code",
   "execution_count": 13,
   "metadata": {},
   "outputs": [
    {
     "data": {
      "image/png": "[encoded data removed]",
      "text/plain": [
       "<Figure size 432x288 with 1 Axes>"
      ]
     },
     "metadata": {
      "needs_background": "light"
     },
     "output_type": "display_data"
    }
   ],
   "source": [
    "# a plot that displays the variance which is explained by the reduced amount of components\n",
    "def pca_cumsum_plot(pca):\n",
    "    plt.plot(np.cumsum(pca.explained_variance_ratio_))\n",
    "    plt.xlabel('Number of components')\n",
    "    plt.ylabel('Explained variance')\n",
    "    plt.show()\n",
    "    \n",
    "pca_cumsum_plot(vgg16_pca)"
   ]
  },
  {
   "cell_type": "code",
   "execution_count": 14,
   "metadata": {},
   "outputs": [],
   "source": [
    "# now apply PCA on the output vectores of our VGG16 model\n",
    "vgg16_output_pca = vgg16_pca.transform(vgg16_output)"
   ]
  },
  {
   "cell_type": "code",
   "execution_count": 15,
   "metadata": {},
   "outputs": [],
   "source": [
    "# Create a dictionary which containes the feature vectors (after PCA) to every posting_id\n",
    "dic_fv = dict(zip(df_train.posting_id.values,list(vgg16_output_pca)))"
   ]
  },
  {
   "cell_type": "markdown",
   "metadata": {},
   "source": [
    "# Clustering\n",
    "\n",
    "Based on the feature vectors we've just created via PCA, we now want to apply three clustering algorithms and check out to which extent they are able to find the label groups defined in our data set."
   ]
  },
  {
   "cell_type": "markdown",
   "metadata": {},
   "source": [
    "## k-Means\n",
    "\n",
    "We'll first use a k-Means clustering. When evaluating the results, please be aware that we told the model that the number of clusters should be the actual number of label groups contained in our data set.  "
   ]
  },
  {
   "cell_type": "code",
   "execution_count": 16,
   "metadata": {},
   "outputs": [],
   "source": [
    "def create_train_kmeans(data, number_of_clusters = len(set(y_train))):       \n",
    "    k = KMeans(n_clusters=number_of_clusters, n_jobs = -1, random_state=42)\n",
    "    k.fit(data)    \n",
    "    return k\n",
    "\n",
    "K_vgg16_pca = create_train_kmeans(vgg16_output_pca)\n",
    "k_vgg16_pred_pca = K_vgg16_pca.predict(vgg16_output_pca)"
   ]
  },
  {
   "cell_type": "code",
   "execution_count": 17,
   "metadata": {},
   "outputs": [],
   "source": [
    "# create new columns in the DataFrame\n",
    "df_train[\"kmeans_cluster\"] = np.array(k_vgg16_pred_pca)\n",
    "tmp = df_train.groupby(['kmeans_cluster'])['posting_id'].unique().to_dict()\n",
    "df_train['matches_pred'] = df_train['kmeans_cluster'].map(tmp)\n",
    "df_train['matches_pred'] = df_train['matches_pred'].apply(lambda x: ' '.join(x))"
   ]
  },
  {
   "cell_type": "code",
   "execution_count": 18,
   "metadata": {},
   "outputs": [],
   "source": [
    "# define a function to calculate the F1-Score of this prediction made with k-Means\n",
    "def f1_score_kmeans(y_true, y_pred):\n",
    "    y_true = y_true.apply(lambda x: set(x.split()))\n",
    "    y_pred = y_pred.apply(lambda x: set(x.split()))\n",
    "    intersection = np.array([len(x[0] & x[1]) for x in zip(y_true, y_pred)])\n",
    "    len_y_pred = y_pred.apply(lambda x: len(x)).values\n",
    "    len_y_true = y_true.apply(lambda x: len(x)).values\n",
    "    f1 = 2 * intersection / (len_y_pred + len_y_true)\n",
    "    return f1"
   ]
  },
  {
   "cell_type": "code",
   "execution_count": 19,
   "metadata": {},
   "outputs": [],
   "source": [
    "df_train[\"f1_kmeans\"] = f1_score_kmeans(df_train.matches_true,df_train.matches_pred)"
   ]
  },
  {
   "cell_type": "code",
   "execution_count": 20,
   "metadata": {},
   "outputs": [
    {
     "name": "stdout",
     "output_type": "stream",
     "text": [
      "F1-Score k-Means:     0.5050584059465884\n"
     ]
    }
   ],
   "source": [
    "print('F1-Score k-Means:    ',df_train.f1_kmeans.mean())"
   ]
  },
  {
   "cell_type": "markdown",
   "metadata": {},
   "source": [
    "## Clustering via Euclidean distance\n",
    "\n",
    "In this section, we'll define clusters by measuring the Euclidean distance between all pairs of images (which are now represented by feature vectors). For that purpose we'll simply define a threshold to determine how close two images have to be in order to be considered as belonging to the same cluster. Then we determine for all pictures separately those neighbours which lie within that threshold. This way we obtain a predicted cluster for every single picture. Unlike the clusters we get from k-Means or from DBSCAN, these clusters are not necessarily disjoint (very probably they are not). This is no problem at all as our target metric, the F1-Score, expects predicted clusters for every image which is then compared to the real cluster this image belongs to."
   ]
  },
  {
   "cell_type": "code",
   "execution_count": 21,
   "metadata": {},
   "outputs": [],
   "source": [
    "# This method calculates the Euclidean distance between one feature vector and all the others\n",
    "def calc_distance(dic,pid):\n",
    "    s1 = dic[pid]\n",
    "    dist = list()\n",
    "    for k in dic.keys():\n",
    "        s2 = dic[k] \n",
    "        d = np.sqrt(np.sum(np.square(s1 - s2)))\n",
    "        dist.append(d)\n",
    "    return dist"
   ]
  },
  {
   "cell_type": "code",
   "execution_count": 22,
   "metadata": {},
   "outputs": [
    {
     "data": {
      "text/html": [
       "<div>\n",
       "<style scoped>\n",
       "    .dataframe tbody tr th:only-of-type {\n",
       "        vertical-align: middle;\n",
       "    }\n",
       "\n",
       "    .dataframe tbody tr th {\n",
       "        vertical-align: top;\n",
       "    }\n",
       "\n",
       "    .dataframe thead th {\n",
       "        text-align: right;\n",
       "    }\n",
       "</style>\n",
       "<table border=\"1\" class=\"dataframe\">\n",
       "  <thead>\n",
       "    <tr style=\"text-align: right;\">\n",
       "      <th></th>\n",
       "      <th>posting_id</th>\n",
       "      <th>label_group</th>\n",
       "      <th>distance</th>\n",
       "    </tr>\n",
       "  </thead>\n",
       "  <tbody>\n",
       "    <tr>\n",
       "      <th>10</th>\n",
       "      <td>train_3645016213</td>\n",
       "      <td>645628</td>\n",
       "      <td>0.000000</td>\n",
       "    </tr>\n",
       "    <tr>\n",
       "      <th>17389</th>\n",
       "      <td>train_38309879</td>\n",
       "      <td>2152124620</td>\n",
       "      <td>23.705448</td>\n",
       "    </tr>\n",
       "    <tr>\n",
       "      <th>16866</th>\n",
       "      <td>train_2649294003</td>\n",
       "      <td>2092158825</td>\n",
       "      <td>23.994318</td>\n",
       "    </tr>\n",
       "    <tr>\n",
       "      <th>13611</th>\n",
       "      <td>train_1471123207</td>\n",
       "      <td>1687595158</td>\n",
       "      <td>24.930891</td>\n",
       "    </tr>\n",
       "    <tr>\n",
       "      <th>5750</th>\n",
       "      <td>train_3989743853</td>\n",
       "      <td>721559761</td>\n",
       "      <td>24.948362</td>\n",
       "    </tr>\n",
       "    <tr>\n",
       "      <th>...</th>\n",
       "      <td>...</td>\n",
       "      <td>...</td>\n",
       "      <td>...</td>\n",
       "    </tr>\n",
       "    <tr>\n",
       "      <th>10157</th>\n",
       "      <td>train_4053748246</td>\n",
       "      <td>1226243819</td>\n",
       "      <td>54.435429</td>\n",
       "    </tr>\n",
       "    <tr>\n",
       "      <th>15254</th>\n",
       "      <td>train_3691504993</td>\n",
       "      <td>1891360161</td>\n",
       "      <td>54.993553</td>\n",
       "    </tr>\n",
       "    <tr>\n",
       "      <th>10152</th>\n",
       "      <td>train_2998702168</td>\n",
       "      <td>1226243819</td>\n",
       "      <td>55.270214</td>\n",
       "    </tr>\n",
       "    <tr>\n",
       "      <th>7618</th>\n",
       "      <td>train_4122448751</td>\n",
       "      <td>947423206</td>\n",
       "      <td>55.523033</td>\n",
       "    </tr>\n",
       "    <tr>\n",
       "      <th>10153</th>\n",
       "      <td>train_4172891622</td>\n",
       "      <td>1226243819</td>\n",
       "      <td>55.668423</td>\n",
       "    </tr>\n",
       "  </tbody>\n",
       "</table>\n",
       "<p>34250 rows × 3 columns</p>\n",
       "</div>"
      ],
      "text/plain": [
       "             posting_id  label_group   distance\n",
       "10     train_3645016213       645628   0.000000\n",
       "17389    train_38309879   2152124620  23.705448\n",
       "16866  train_2649294003   2092158825  23.994318\n",
       "13611  train_1471123207   1687595158  24.930891\n",
       "5750   train_3989743853    721559761  24.948362\n",
       "...                 ...          ...        ...\n",
       "10157  train_4053748246   1226243819  54.435429\n",
       "15254  train_3691504993   1891360161  54.993553\n",
       "10152  train_2998702168   1226243819  55.270214\n",
       "7618   train_4122448751    947423206  55.523033\n",
       "10153  train_4172891622   1226243819  55.668423\n",
       "\n",
       "[34250 rows x 3 columns]"
      ]
     },
     "execution_count": 22,
     "metadata": {},
     "output_type": "execute_result"
    }
   ],
   "source": [
    "# Check out the nearest neighbours of one particular image\n",
    "def check_one_pid(dic_fv,df, pid = \"train_3645016213\"):\n",
    "    l = calc_distance(dic_fv, pid)\n",
    "    l[:10]\n",
    "    dist_df = pd.DataFrame({\"posting_id\":df.posting_id.values,\n",
    "                            \"label_group\": df.label_group.values,\n",
    "                            \"distance\": l,                            \n",
    "                           })\n",
    "    dist_df = dist_df.sort_values(by = \"distance\")\n",
    "    return dist_df\n",
    "\n",
    "check_one_pid(dic_fv,df_train)"
   ]
  },
  {
   "cell_type": "code",
   "execution_count": 23,
   "metadata": {},
   "outputs": [],
   "source": [
    "# Define functions in order to do the evaluation\n",
    "def pred_cluster_of_pid_cnn(pid, dic_fv, threshold):\n",
    "    fv1 = dic_fv[pid]\n",
    "    list_pid = list(dic_fv.keys())\n",
    "    dist = calc_distance(dic_fv,pid)\n",
    "    df_out = pd.DataFrame({\"posting_id\":list_pid, \"distance\":dist})\n",
    "    df_out = df_out[df_out[\"distance\"] <= threshold]\n",
    "    ls = df_out[\"posting_id\"].tolist()\n",
    "    return set(ls)\n",
    "\n",
    "def real_cluster_of_pid(pid, df):\n",
    "    df_red_list = df[df[\"posting_id\"] == pid][\"matches_true\"].apply(lambda x: x.split()).values[0]\n",
    "    return set(df_red_list)\n",
    "\n",
    "def f_score(cl_real_i, cl_pred_i):\n",
    "    s_pred = set(cl_pred_i)\n",
    "    s_real = set(cl_real_i)\n",
    "    s_intsec = s_pred.intersection(s_real)\n",
    "    return 2*len(s_intsec) / (len(s_pred)+len(s_real))\n",
    "\n",
    "def eval_f1(l_th, df, dic_fv):\n",
    "    f1 = [[] for _ in range(len(l_th))]\n",
    "    for i, th in enumerate(l_th):\n",
    "        for pi in df.posting_id:\n",
    "            f1[i].append(f_score(real_cluster_of_pid(pi, df),pred_cluster_of_pid_cnn(pi,dic_fv,th)))\n",
    "        print(\"Threshold : {}      F1-Score: {}\".format(th, np.sum(f1[i]) / len(f1[i])))\n",
    "    return f1       "
   ]
  },
  {
   "cell_type": "code",
   "execution_count": 24,
   "metadata": {},
   "outputs": [
    {
     "name": "stdout",
     "output_type": "stream",
     "text": [
      "Threshold : 24      F1-Score: 0.381011314778529\n"
     ]
    }
   ],
   "source": [
    "f1 = eval_f1([24],df_train,dic_fv)"
   ]
  },
  {
   "cell_type": "markdown",
   "metadata": {},
   "source": [
    "## Clustering with DBSCAN\n",
    "\n",
    "Finally we'll do a clustering using the DBSCAN method."
   ]
  },
  {
   "cell_type": "code",
   "execution_count": 25,
   "metadata": {},
   "outputs": [],
   "source": [
    "db_scan_model = DBSCAN(\n",
    "                    eps=0.4,\n",
    "                    min_samples=2,\n",
    "                    metric='euclidean',\n",
    "                    metric_params=None,\n",
    "                    algorithm='auto',\n",
    "                    leaf_size=30,\n",
    "                    p=None,\n",
    "                    n_jobs=None,\n",
    "                )"
   ]
  },
  {
   "cell_type": "code",
   "execution_count": 26,
   "metadata": {},
   "outputs": [
    {
     "name": "stdout",
     "output_type": "stream",
     "text": [
      "Number of clusters:    1618\n"
     ]
    }
   ],
   "source": [
    "db_pred = db_scan_model.fit_predict(list(dic_fv.values()))\n",
    "print('Number of clusters:   ',len(set(db_pred)))"
   ]
  },
  {
   "cell_type": "code",
   "execution_count": 27,
   "metadata": {},
   "outputs": [],
   "source": [
    "df_train[\"db_scan\"] = db_pred\n",
    "tmp = df_train.groupby(['db_scan'])['posting_id'].unique().to_dict()\n",
    "if -1 in tmp.keys(): \n",
    "    del tmp[-1]\n",
    "df_train[\"db_scan\"] = [x if df_train[df_train[\"posting_id\"] == x][\"db_scan\"].values[0] == -1 else tmp[df_train[df_train[\"posting_id\"] == x][\"db_scan\"].values[0]] for x in df_train.posting_id ]"
   ]
  },
  {
   "cell_type": "code",
   "execution_count": 28,
   "metadata": {},
   "outputs": [],
   "source": [
    "def f1_score(y_true, y_pred):\n",
    "    y_true = y_true.split()\n",
    "    intersection = np.intersect1d(y_true,y_pred)\n",
    "    intersection = len(intersection)\n",
    "    len_y_pred = len(y_pred)\n",
    "    len_y_true = len(y_true)\n",
    "    f1 = 2 * intersection / (len_y_pred + len_y_true)\n",
    "    return f1"
   ]
  },
  {
   "cell_type": "code",
   "execution_count": 29,
   "metadata": {},
   "outputs": [],
   "source": [
    "f1_db_scan = []\n",
    "for y_true, y_pred in zip(df_train.matches_true.values, df_train.db_scan.values):\n",
    "    f1_db_scan.append(f1_score(y_true, y_pred))"
   ]
  },
  {
   "cell_type": "code",
   "execution_count": 30,
   "metadata": {},
   "outputs": [
    {
     "name": "stdout",
     "output_type": "stream",
     "text": [
      "F1-Score DBSCAN:    0.1618436010315891\n"
     ]
    }
   ],
   "source": [
    "# Print out the final F1-Score\n",
    "print('F1-Score DBSCAN:   ',np.sum(f1_db_scan)/len(f1_db_scan))"
   ]
  },
  {
   "cell_type": "markdown",
   "metadata": {},
   "source": [
    "## Future work"
   ]
  },
  {
   "cell_type": "markdown",
   "metadata": {},
   "source": [
    "We saw that the F1-Score we got from the k-Means clustering was not too bad, but still there is plenty of room for improvement. As the VGG16 model was trained on images which are quite different from those contained in our data set, we did not expect perfect results anyway. Future work on this approach could be a transfer learning model: Instead of simply clustering the feature vectors we got from the convolutional layers of the VGG16 model, we could use these vectors as the input data for a new neural network. This network would then be trained to recognize the specific objects displayed on the images contained in our data set. As the feature vectors we would get from such a method would be much better adapted to the objects we want to cluster, this gives cause to hope to achieve better results that way."
   ]
  }
 ],
 "metadata": {
  "kernelspec": {
   "display_name": "Python 3",
   "language": "python",
   "name": "python3"
  },
  "language_info": {
   "codemirror_mode": {
    "name": "ipython",
    "version": 3
   },
   "file_extension": ".py",
   "mimetype": "text/x-python",
   "name": "python",
   "nbconvert_exporter": "python",
   "pygments_lexer": "ipython3",
   "version": "3.8.5"
  }
 },
 "nbformat": 4,
 "nbformat_minor": 4
}
